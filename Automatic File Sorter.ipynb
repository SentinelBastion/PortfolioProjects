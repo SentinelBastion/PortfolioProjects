{
 "cells": [
  {
   "cell_type": "markdown",
   "id": "59337ca5",
   "metadata": {},
   "source": [
    "# Automatic File Sorter in File Explorer\n"
   ]
  },
  {
   "cell_type": "code",
   "execution_count": 1,
   "id": "b9279019",
   "metadata": {},
   "outputs": [],
   "source": [
    "import os, shutil"
   ]
  },
  {
   "cell_type": "code",
   "execution_count": 28,
   "id": "bbb98f73",
   "metadata": {},
   "outputs": [],
   "source": [
    "#creating a path\n",
    "\n",
    "path=r'C:/Users/sebas/OneDrive/Documentos/Data Analysis/'"
   ]
  },
  {
   "cell_type": "code",
   "execution_count": 29,
   "id": "2ad39e39",
   "metadata": {},
   "outputs": [],
   "source": [
    "file_name=os.listdir(path)"
   ]
  },
  {
   "cell_type": "code",
   "execution_count": 40,
   "id": "3cb5219b",
   "metadata": {},
   "outputs": [
    {
     "name": "stdout",
     "output_type": "stream",
     "text": [
      "C:/Users/sebas/OneDrive/Documentos/Data Analysis/word files\n",
      "There are files in this path that were not moved!\n",
      "There are files in this path that were not moved!\n",
      "There are files in this path that were not moved!\n",
      "There are files in this path that were not moved!\n",
      "There are files in this path that were not moved!\n",
      "There are files in this path that were not moved!\n",
      "There are files in this path that were not moved!\n",
      "There are files in this path that were not moved!\n",
      "There are files in this path that were not moved!\n",
      "There are files in this path that were not moved!\n",
      "There are files in this path that were not moved!\n",
      "There are files in this path that were not moved!\n",
      "There are files in this path that were not moved!\n",
      "There are files in this path that were not moved!\n",
      "There are files in this path that were not moved!\n",
      "There are files in this path that were not moved!\n",
      "There are files in this path that were not moved!\n",
      "There are files in this path that were not moved!\n",
      "There are files in this path that were not moved!\n",
      "There are files in this path that were not moved!\n",
      "There are files in this path that were not moved!\n",
      "There are files in this path that were not moved!\n",
      "There are files in this path that were not moved!\n",
      "There are files in this path that were not moved!\n",
      "There are files in this path that were not moved!\n",
      "There are files in this path that were not moved!\n",
      "There are files in this path that were not moved!\n",
      "There are files in this path that were not moved!\n",
      "There are files in this path that were not moved!\n",
      "There are files in this path that were not moved!\n",
      "There are files in this path that were not moved!\n",
      "There are files in this path that were not moved!\n",
      "There are files in this path that were not moved!\n",
      "There are files in this path that were not moved!\n",
      "There are files in this path that were not moved!\n",
      "There are files in this path that were not moved!\n",
      "There are files in this path that were not moved!\n",
      "There are files in this path that were not moved!\n",
      "There are files in this path that were not moved!\n",
      "There are files in this path that were not moved!\n",
      "There are files in this path that were not moved!\n",
      "There are files in this path that were not moved!\n",
      "There are files in this path that were not moved!\n",
      "There are files in this path that were not moved!\n"
     ]
    }
   ],
   "source": [
    "folder_names=['csv files','image files','text files','excel files','pdf files','word files']\n",
    "\n",
    "#creating folders for the files if they don't already exist\n",
    "for loop in range(0,6):\n",
    "    if not os.path.exists(path+folder_names[loop]):\n",
    "        print(path+folder_names[loop])\n",
    "        os.makedirs(path+folder_names[loop])\n",
    "\n",
    "#sorting the files in each folder according to their type if they're not already in there   \n",
    "\n",
    "for file in file_name:\n",
    "    if '.csv' in file and not os.path.exists(path+\"csv files/\"+file):\n",
    "        shutil.move(path+file,path+\"csv files/\"+file)\n",
    "    elif '.png' in file and not os.path.exists(path+\"image files/\"+file):\n",
    "        shutil.move(path+file,path+\"image files/\"+file)\n",
    "    elif '.txt' in file and not os.path.exists(path+\"text files/\"+file):\n",
    "        shutil.move(path+file,path+\"text files/\"+file)\n",
    "    elif '.xlsx' in file and not os.path.exists(path+\"excel files/\"+file):\n",
    "        shutil.move(path+file,path+\"excel files/\"+file)    \n",
    "    \n",
    "    elif '.pdf' in file and not os.path.exists(path+\"pdf files/\"+file):\n",
    "        shutil.move(path+file,path+\"pdf files/\"+file)\n",
    "    elif '.docx' in file and not os.path.exists(path+\"word files/\"+file):\n",
    "        shutil.move(path+file,path+\"word files/\"+file)    \n",
    "    else:\n",
    "        print('There are files in this path that were not moved!')      \n"
   ]
  },
  {
   "cell_type": "code",
   "execution_count": null,
   "id": "d9a53f51",
   "metadata": {},
   "outputs": [],
   "source": [
    "  \n",
    "      \n",
    "    \n",
    "        "
   ]
  },
  {
   "cell_type": "code",
   "execution_count": null,
   "id": "b9525661",
   "metadata": {},
   "outputs": [],
   "source": []
  },
  {
   "cell_type": "code",
   "execution_count": null,
   "id": "4bca67b7",
   "metadata": {},
   "outputs": [],
   "source": []
  },
  {
   "cell_type": "code",
   "execution_count": null,
   "id": "1c70c75b",
   "metadata": {},
   "outputs": [],
   "source": []
  },
  {
   "cell_type": "code",
   "execution_count": null,
   "id": "2ab474ad",
   "metadata": {},
   "outputs": [],
   "source": []
  },
  {
   "cell_type": "code",
   "execution_count": null,
   "id": "8d8957b4",
   "metadata": {},
   "outputs": [],
   "source": []
  },
  {
   "cell_type": "code",
   "execution_count": null,
   "id": "41932978",
   "metadata": {},
   "outputs": [],
   "source": []
  },
  {
   "cell_type": "code",
   "execution_count": null,
   "id": "4a725f38",
   "metadata": {},
   "outputs": [],
   "source": []
  },
  {
   "cell_type": "code",
   "execution_count": null,
   "id": "6d01ff43",
   "metadata": {},
   "outputs": [],
   "source": []
  },
  {
   "cell_type": "code",
   "execution_count": null,
   "id": "a61f0d0e",
   "metadata": {},
   "outputs": [],
   "source": []
  },
  {
   "cell_type": "code",
   "execution_count": null,
   "id": "28e321c0",
   "metadata": {},
   "outputs": [],
   "source": []
  },
  {
   "cell_type": "code",
   "execution_count": null,
   "id": "99feece4",
   "metadata": {},
   "outputs": [],
   "source": []
  }
 ],
 "metadata": {
  "kernelspec": {
   "display_name": "Python 3 (ipykernel)",
   "language": "python",
   "name": "python3"
  },
  "language_info": {
   "codemirror_mode": {
    "name": "ipython",
    "version": 3
   },
   "file_extension": ".py",
   "mimetype": "text/x-python",
   "name": "python",
   "nbconvert_exporter": "python",
   "pygments_lexer": "ipython3",
   "version": "3.9.13"
  }
 },
 "nbformat": 4,
 "nbformat_minor": 5
}
